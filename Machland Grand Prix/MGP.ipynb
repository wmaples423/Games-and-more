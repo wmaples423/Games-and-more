{
 "cells": [
  {
   "cell_type": "markdown",
   "metadata": {},
   "source": [
    "Maps\n",
    "Cars\n",
    "Collision\n",
    "Driving Mechanics\n",
    "Backgrounds\n",
    "Day/night cycle\n",
    "Points\n",
    "Drifting\n",
    "Boost"
   ]
  }
 ],
 "metadata": {
  "language_info": {
   "name": "python"
  },
  "orig_nbformat": 4
 },
 "nbformat": 4,
 "nbformat_minor": 2
}
